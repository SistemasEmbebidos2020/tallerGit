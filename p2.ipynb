{
 "cells": [
  {
   "cell_type": "code",
   "execution_count": null,
   "id": "8d0319ad",
   "metadata": {},
   "outputs": [],
   "source": [
    "import pandas as pd\n",
    "import numpy as np\n",
    "import matplotlib.pyplot as plt\n",
    "import seaborn as sns\n"
   ]
  },
  {
   "cell_type": "code",
   "execution_count": null,
   "id": "e49edb0e",
   "metadata": {},
   "outputs": [],
   "source": [
    "df = pd.read_csv('millas_por_galon.csv')\n",
    "print(df.head())"
   ]
  },
  {
   "cell_type": "code",
   "execution_count": null,
   "id": "b27656ce",
   "metadata": {},
   "outputs": [],
   "source": [
    "df.describe()"
   ]
  },
  {
   "cell_type": "code",
   "execution_count": null,
   "id": "071431ed",
   "metadata": {},
   "outputs": [],
   "source": [
    "#contar nulos por columna\n",
    "print(df.isnull().sum())"
   ]
  },
  {
   "cell_type": "code",
   "execution_count": null,
   "id": "6b7161d9",
   "metadata": {},
   "outputs": [],
   "source": [
    "#buscar algun valor no numerico en las columnas numericas\n",
    "for col in df.select_dtypes(include=['object']).columns:\n",
    "    print(f\"Valores únicos en la columna {col}: {df[col].unique()}\")    \n",
    "    "
   ]
  },
  {
   "cell_type": "code",
   "execution_count": null,
   "id": "fba71f86",
   "metadata": {},
   "outputs": [],
   "source": [
    "# en la columna potencia donde hay un ? reemplazar por promedio de la columna \n",
    "df['potencia'] = pd.to_numeric(df['potencia'], errors='coerce')\n",
    "df['potencia'].fillna(df['potencia'].mean(), inplace=True)\n",
    "df['potencia'].isnull().sum()  # Verificar que no haya nulos"
   ]
  },
  {
   "cell_type": "code",
   "execution_count": null,
   "id": "b5c42b9b",
   "metadata": {},
   "outputs": [],
   "source": [
    "sns.pairplot(df)\n",
    "plt.show()"
   ]
  },
  {
   "cell_type": "code",
   "execution_count": null,
   "id": "39d21052",
   "metadata": {},
   "outputs": [],
   "source": [
    "sns.boxplot(x='nb_cilindros', y='mpg', data=df)\n",
    "plt.show()"
   ]
  },
  {
   "cell_type": "code",
   "execution_count": null,
   "id": "c5e3517c",
   "metadata": {},
   "outputs": [],
   "source": [
    "\n",
    "\n",
    "\n",
    "# implemetar una funcion de preprocesamiento de datos\n",
    "def preprocess_data(df):\n",
    "    # eliminar filas con valores nulos\n",
    "    df = df.dropna()\n",
    "    \n",
    "    # hacer one hot encoding solo a la columna 'nb_cilindros'\n",
    "    if 'nb_cilindros' in df.columns:\n",
    "        df = pd.get_dummies(df, columns=['nb_cilindros'], drop_first=True)\n",
    "    \n",
    "    return df\n",
    "\n",
    "df = preprocess_data(df)\n",
    "print(df.head())\n"
   ]
  },
  {
   "cell_type": "code",
   "execution_count": null,
   "id": "0ccfb85d",
   "metadata": {},
   "outputs": [],
   "source": [
    "df.describe()"
   ]
  },
  {
   "cell_type": "code",
   "execution_count": null,
   "id": "7f02ce87",
   "metadata": {},
   "outputs": [],
   "source": [
    "# Correlación entre variables numéricas\n",
    "numeric_df = df.select_dtypes(include=[np.number])\n",
    "correlation_matrix = numeric_df.corr()\n",
    "plt.figure(figsize=(10, 8))\n",
    "sns.heatmap(correlation_matrix, annot=True, fmt=\".2f\", cmap='coolwarm')\n",
    "plt.title('Matriz de Correlación')\n",
    "plt.show()\n"
   ]
  },
  {
   "cell_type": "code",
   "execution_count": null,
   "id": "90ea351b",
   "metadata": {},
   "outputs": [],
   "source": [
    "df.head()"
   ]
  },
  {
   "cell_type": "code",
   "execution_count": null,
   "id": "9c52dfff",
   "metadata": {},
   "outputs": [],
   "source": [
    "# Guardar el dataframe preprocesado\n",
    "df.to_csv('millas_por_galon_preprocesado.csv', index=False)\n",
    "\n"
   ]
  }
 ],
 "metadata": {
  "kernelspec": {
   "display_name": "Python 3",
   "language": "python",
   "name": "python3"
  },
  "language_info": {
   "codemirror_mode": {
    "name": "ipython",
    "version": 3
   },
   "file_extension": ".py",
   "mimetype": "text/x-python",
   "name": "python",
   "nbconvert_exporter": "python",
   "pygments_lexer": "ipython3",
   "version": "3.13.1"
  }
 },
 "nbformat": 4,
 "nbformat_minor": 5
}
