{
 "cells": [
  {
   "cell_type": "code",
   "execution_count": 2,
   "id": "8a1d0b7d",
   "metadata": {},
   "outputs": [],
   "source": [
    "import pandas as pd"
   ]
  },
  {
   "cell_type": "code",
   "execution_count": 3,
   "id": "26b9de4c",
   "metadata": {},
   "outputs": [
    {
     "data": {
      "application/vnd.microsoft.datawrangler.viewer.v0+json": {
       "columns": [
        {
         "name": "index",
         "rawType": "int64",
         "type": "integer"
        },
        {
         "name": "nb_cilindros",
         "rawType": "int64",
         "type": "integer"
        },
        {
         "name": "desplazamiento",
         "rawType": "float64",
         "type": "float"
        },
        {
         "name": "potencia",
         "rawType": "object",
         "type": "string"
        },
        {
         "name": "peso",
         "rawType": "float64",
         "type": "float"
        },
        {
         "name": "aceleracion",
         "rawType": "float64",
         "type": "float"
        },
        {
         "name": "anio",
         "rawType": "int64",
         "type": "integer"
        },
        {
         "name": "modeo",
         "rawType": "object",
         "type": "string"
        },
        {
         "name": "mpg",
         "rawType": "float64",
         "type": "float"
        }
       ],
       "ref": "59ae766a-a794-4cd0-9669-279f1200273d",
       "rows": [
        [
         "0",
         "8",
         "307.0",
         "130.0",
         "3504.0",
         "12.0",
         "70",
         "\"chevrolet chevelle malibu\"",
         "18.0"
        ],
        [
         "1",
         "8",
         "350.0",
         "165.0",
         "3693.0",
         "11.5",
         "70",
         "\"buick skylark 320\"",
         "15.0"
        ],
        [
         "2",
         "8",
         "318.0",
         "150.0",
         "3436.0",
         "11.0",
         "70",
         "\"plymouth satellite\"",
         "18.0"
        ],
        [
         "3",
         "8",
         "304.0",
         "150.0",
         "3433.0",
         "12.0",
         "70",
         "\"amc rebel sst\"",
         "16.0"
        ],
        [
         "4",
         "8",
         "302.0",
         "140.0",
         "3449.0",
         "10.5",
         "70",
         "\"ford torino\"",
         "17.0"
        ]
       ],
       "shape": {
        "columns": 8,
        "rows": 5
       }
      },
      "text/html": [
       "<div>\n",
       "<style scoped>\n",
       "    .dataframe tbody tr th:only-of-type {\n",
       "        vertical-align: middle;\n",
       "    }\n",
       "\n",
       "    .dataframe tbody tr th {\n",
       "        vertical-align: top;\n",
       "    }\n",
       "\n",
       "    .dataframe thead th {\n",
       "        text-align: right;\n",
       "    }\n",
       "</style>\n",
       "<table border=\"1\" class=\"dataframe\">\n",
       "  <thead>\n",
       "    <tr style=\"text-align: right;\">\n",
       "      <th></th>\n",
       "      <th>nb_cilindros</th>\n",
       "      <th>desplazamiento</th>\n",
       "      <th>potencia</th>\n",
       "      <th>peso</th>\n",
       "      <th>aceleracion</th>\n",
       "      <th>anio</th>\n",
       "      <th>modeo</th>\n",
       "      <th>mpg</th>\n",
       "    </tr>\n",
       "  </thead>\n",
       "  <tbody>\n",
       "    <tr>\n",
       "      <th>0</th>\n",
       "      <td>8</td>\n",
       "      <td>307.0</td>\n",
       "      <td>130.0</td>\n",
       "      <td>3504.0</td>\n",
       "      <td>12.0</td>\n",
       "      <td>70</td>\n",
       "      <td>\"chevrolet chevelle malibu\"</td>\n",
       "      <td>18.0</td>\n",
       "    </tr>\n",
       "    <tr>\n",
       "      <th>1</th>\n",
       "      <td>8</td>\n",
       "      <td>350.0</td>\n",
       "      <td>165.0</td>\n",
       "      <td>3693.0</td>\n",
       "      <td>11.5</td>\n",
       "      <td>70</td>\n",
       "      <td>\"buick skylark 320\"</td>\n",
       "      <td>15.0</td>\n",
       "    </tr>\n",
       "    <tr>\n",
       "      <th>2</th>\n",
       "      <td>8</td>\n",
       "      <td>318.0</td>\n",
       "      <td>150.0</td>\n",
       "      <td>3436.0</td>\n",
       "      <td>11.0</td>\n",
       "      <td>70</td>\n",
       "      <td>\"plymouth satellite\"</td>\n",
       "      <td>18.0</td>\n",
       "    </tr>\n",
       "    <tr>\n",
       "      <th>3</th>\n",
       "      <td>8</td>\n",
       "      <td>304.0</td>\n",
       "      <td>150.0</td>\n",
       "      <td>3433.0</td>\n",
       "      <td>12.0</td>\n",
       "      <td>70</td>\n",
       "      <td>\"amc rebel sst\"</td>\n",
       "      <td>16.0</td>\n",
       "    </tr>\n",
       "    <tr>\n",
       "      <th>4</th>\n",
       "      <td>8</td>\n",
       "      <td>302.0</td>\n",
       "      <td>140.0</td>\n",
       "      <td>3449.0</td>\n",
       "      <td>10.5</td>\n",
       "      <td>70</td>\n",
       "      <td>\"ford torino\"</td>\n",
       "      <td>17.0</td>\n",
       "    </tr>\n",
       "  </tbody>\n",
       "</table>\n",
       "</div>"
      ],
      "text/plain": [
       "   nb_cilindros  desplazamiento potencia    peso  aceleracion  anio  \\\n",
       "0             8           307.0    130.0  3504.0         12.0    70   \n",
       "1             8           350.0    165.0  3693.0         11.5    70   \n",
       "2             8           318.0    150.0  3436.0         11.0    70   \n",
       "3             8           304.0    150.0  3433.0         12.0    70   \n",
       "4             8           302.0    140.0  3449.0         10.5    70   \n",
       "\n",
       "                         modeo   mpg  \n",
       "0  \"chevrolet chevelle malibu\"  18.0  \n",
       "1          \"buick skylark 320\"  15.0  \n",
       "2         \"plymouth satellite\"  18.0  \n",
       "3              \"amc rebel sst\"  16.0  \n",
       "4                \"ford torino\"  17.0  "
      ]
     },
     "execution_count": 3,
     "metadata": {},
     "output_type": "execute_result"
    }
   ],
   "source": [
    "df3 = pd.read_csv('millas_por_galon.csv')\n",
    "df3.head()"
   ]
  },
  {
   "cell_type": "code",
   "execution_count": 7,
   "id": "48b09e9c",
   "metadata": {},
   "outputs": [
    {
     "name": "stdout",
     "output_type": "stream",
     "text": [
      "3184\n"
     ]
    }
   ],
   "source": [
    "print(df3.size)"
   ]
  },
  {
   "cell_type": "code",
   "execution_count": 8,
   "id": "3a67fb60",
   "metadata": {},
   "outputs": [
    {
     "name": "stdout",
     "output_type": "stream",
     "text": [
      "3184\n"
     ]
    }
   ],
   "source": [
    "df4 = df3.dropna()\n",
    "print(df4.size)"
   ]
  },
  {
   "cell_type": "code",
   "execution_count": 10,
   "id": "b5d66a67",
   "metadata": {},
   "outputs": [],
   "source": [
    "df4 = df4.reset_index(drop=True)"
   ]
  },
  {
   "cell_type": "code",
   "execution_count": 11,
   "id": "ba3bd7e7",
   "metadata": {},
   "outputs": [
    {
     "data": {
      "application/vnd.microsoft.datawrangler.viewer.v0+json": {
       "columns": [
        {
         "name": "index",
         "rawType": "int64",
         "type": "integer"
        },
        {
         "name": "nb_cilindros",
         "rawType": "int64",
         "type": "integer"
        },
        {
         "name": "desplazamiento",
         "rawType": "float64",
         "type": "float"
        },
        {
         "name": "potencia",
         "rawType": "object",
         "type": "string"
        },
        {
         "name": "peso",
         "rawType": "float64",
         "type": "float"
        },
        {
         "name": "aceleracion",
         "rawType": "float64",
         "type": "float"
        },
        {
         "name": "anio",
         "rawType": "int64",
         "type": "integer"
        },
        {
         "name": "modeo",
         "rawType": "object",
         "type": "string"
        },
        {
         "name": "mpg",
         "rawType": "float64",
         "type": "float"
        }
       ],
       "ref": "8fb51c02-e569-4b62-8b73-d291665b0481",
       "rows": [
        [
         "0",
         "8",
         "307.0",
         "130.0",
         "3504.0",
         "12.0",
         "70",
         "\"chevrolet chevelle malibu\"",
         "18.0"
        ],
        [
         "1",
         "8",
         "350.0",
         "165.0",
         "3693.0",
         "11.5",
         "70",
         "\"buick skylark 320\"",
         "15.0"
        ],
        [
         "2",
         "8",
         "318.0",
         "150.0",
         "3436.0",
         "11.0",
         "70",
         "\"plymouth satellite\"",
         "18.0"
        ],
        [
         "3",
         "8",
         "304.0",
         "150.0",
         "3433.0",
         "12.0",
         "70",
         "\"amc rebel sst\"",
         "16.0"
        ],
        [
         "4",
         "8",
         "302.0",
         "140.0",
         "3449.0",
         "10.5",
         "70",
         "\"ford torino\"",
         "17.0"
        ],
        [
         "5",
         "8",
         "429.0",
         "198.0",
         "4341.0",
         "10.0",
         "70",
         "\"ford galaxie 500\"",
         "15.0"
        ],
        [
         "6",
         "8",
         "454.0",
         "220.0",
         "4354.0",
         "9.0",
         "70",
         "\"chevrolet impala\"",
         "14.0"
        ],
        [
         "7",
         "8",
         "440.0",
         "215.0",
         "4312.0",
         "8.5",
         "70",
         "\"plymouth fury iii\"",
         "14.0"
        ],
        [
         "8",
         "8",
         "455.0",
         "225.0",
         "4425.0",
         "10.0",
         "70",
         "\"pontiac catalina\"",
         "14.0"
        ],
        [
         "9",
         "8",
         "390.0",
         "190.0",
         "3850.0",
         "8.5",
         "70",
         "\"amc ambassador dpl\"",
         "15.0"
        ],
        [
         "10",
         "8",
         "383.0",
         "170.0",
         "3563.0",
         "10.0",
         "70",
         "\"dodge challenger se\"",
         "15.0"
        ],
        [
         "11",
         "8",
         "340.0",
         "160.0",
         "3609.0",
         "8.0",
         "70",
         "\"plymouth 'cuda 340\"",
         "14.0"
        ],
        [
         "12",
         "8",
         "400.0",
         "150.0",
         "3761.0",
         "9.5",
         "70",
         "\"chevrolet monte carlo\"",
         "15.0"
        ],
        [
         "13",
         "8",
         "455.0",
         "225.0",
         "3086.0",
         "10.0",
         "70",
         "\"buick estate wagon (sw)\"",
         "14.0"
        ],
        [
         "14",
         "4",
         "113.0",
         "95.00",
         "2372.0",
         "15.0",
         "70",
         "\"toyota corona mark ii\"",
         "24.0"
        ],
        [
         "15",
         "6",
         "198.0",
         "95.00",
         "2833.0",
         "15.5",
         "70",
         "\"plymouth duster\"",
         "22.0"
        ],
        [
         "16",
         "6",
         "199.0",
         "97.00",
         "2774.0",
         "15.5",
         "70",
         "\"amc hornet\"",
         "18.0"
        ],
        [
         "17",
         "6",
         "200.0",
         "85.00",
         "2587.0",
         "16.0",
         "70",
         "\"ford maverick\"",
         "21.0"
        ],
        [
         "18",
         "4",
         "97.0",
         "88.00",
         "2130.0",
         "14.5",
         "70",
         "\"datsun pl510\"",
         "27.0"
        ],
        [
         "19",
         "4",
         "97.0",
         "46.00",
         "1835.0",
         "20.5",
         "70",
         "\"volkswagen 1131 deluxe sedan\"",
         "26.0"
        ],
        [
         "20",
         "4",
         "110.0",
         "87.00",
         "2672.0",
         "17.5",
         "70",
         "\"peugeot 504\"",
         "25.0"
        ],
        [
         "21",
         "4",
         "107.0",
         "90.00",
         "2430.0",
         "14.5",
         "70",
         "\"audi 100 ls\"",
         "24.0"
        ],
        [
         "22",
         "4",
         "104.0",
         "95.00",
         "2375.0",
         "17.5",
         "70",
         "\"saab 99e\"",
         "25.0"
        ],
        [
         "23",
         "4",
         "121.0",
         "113.0",
         "2234.0",
         "12.5",
         "70",
         "\"bmw 2002\"",
         "26.0"
        ],
        [
         "24",
         "6",
         "199.0",
         "90.00",
         "2648.0",
         "15.0",
         "70",
         "\"amc gremlin\"",
         "21.0"
        ],
        [
         "25",
         "8",
         "360.0",
         "215.0",
         "4615.0",
         "14.0",
         "70",
         "\"ford f250\"",
         "10.0"
        ],
        [
         "26",
         "8",
         "307.0",
         "200.0",
         "4376.0",
         "15.0",
         "70",
         "\"chevy c20\"",
         "10.0"
        ],
        [
         "27",
         "8",
         "318.0",
         "210.0",
         "4382.0",
         "13.5",
         "70",
         "\"dodge d200\"",
         "11.0"
        ],
        [
         "28",
         "8",
         "304.0",
         "193.0",
         "4732.0",
         "18.5",
         "70",
         "\"hi 1200d\"",
         "9.0"
        ],
        [
         "29",
         "4",
         "97.0",
         "88.00",
         "2130.0",
         "14.5",
         "71",
         "\"datsun pl510\"",
         "27.0"
        ],
        [
         "30",
         "4",
         "140.0",
         "90.00",
         "2264.0",
         "15.5",
         "71",
         "\"chevrolet vega 2300\"",
         "28.0"
        ],
        [
         "31",
         "4",
         "113.0",
         "95.00",
         "2228.0",
         "14.0",
         "71",
         "\"toyota corona\"",
         "25.0"
        ],
        [
         "32",
         "4",
         "98.0",
         "?",
         "2046.0",
         "19.0",
         "71",
         "\"ford pinto\"",
         "25.0"
        ],
        [
         "33",
         "6",
         "232.0",
         "100.0",
         "2634.0",
         "13.0",
         "71",
         "\"amc gremlin\"",
         "19.0"
        ],
        [
         "34",
         "6",
         "225.0",
         "105.0",
         "3439.0",
         "15.5",
         "71",
         "\"plymouth satellite custom\"",
         "16.0"
        ],
        [
         "35",
         "6",
         "250.0",
         "100.0",
         "3329.0",
         "15.5",
         "71",
         "\"chevrolet chevelle malibu\"",
         "17.0"
        ],
        [
         "36",
         "6",
         "250.0",
         "88.00",
         "3302.0",
         "15.5",
         "71",
         "\"ford torino 500\"",
         "19.0"
        ],
        [
         "37",
         "6",
         "232.0",
         "100.0",
         "3288.0",
         "15.5",
         "71",
         "\"amc matador\"",
         "18.0"
        ],
        [
         "38",
         "8",
         "350.0",
         "165.0",
         "4209.0",
         "12.0",
         "71",
         "\"chevrolet impala\"",
         "14.0"
        ],
        [
         "39",
         "8",
         "400.0",
         "175.0",
         "4464.0",
         "11.5",
         "71",
         "\"pontiac catalina brougham\"",
         "14.0"
        ],
        [
         "40",
         "8",
         "351.0",
         "153.0",
         "4154.0",
         "13.5",
         "71",
         "\"ford galaxie 500\"",
         "14.0"
        ],
        [
         "41",
         "8",
         "318.0",
         "150.0",
         "4096.0",
         "13.0",
         "71",
         "\"plymouth fury iii\"",
         "14.0"
        ],
        [
         "42",
         "8",
         "383.0",
         "180.0",
         "4955.0",
         "11.5",
         "71",
         "\"dodge monaco (sw)\"",
         "12.0"
        ],
        [
         "43",
         "8",
         "400.0",
         "170.0",
         "4746.0",
         "12.0",
         "71",
         "\"ford country squire (sw)\"",
         "13.0"
        ],
        [
         "44",
         "8",
         "400.0",
         "175.0",
         "5140.0",
         "12.0",
         "71",
         "\"pontiac safari (sw)\"",
         "13.0"
        ],
        [
         "45",
         "6",
         "258.0",
         "110.0",
         "2962.0",
         "13.5",
         "71",
         "\"amc hornet sportabout (sw)\"",
         "18.0"
        ],
        [
         "46",
         "4",
         "140.0",
         "72.00",
         "2408.0",
         "19.0",
         "71",
         "\"chevrolet vega (sw)\"",
         "22.0"
        ],
        [
         "47",
         "6",
         "250.0",
         "100.0",
         "3282.0",
         "15.0",
         "71",
         "\"pontiac firebird\"",
         "19.0"
        ],
        [
         "48",
         "6",
         "250.0",
         "88.00",
         "3139.0",
         "14.5",
         "71",
         "\"ford mustang\"",
         "18.0"
        ],
        [
         "49",
         "4",
         "122.0",
         "86.00",
         "2220.0",
         "14.0",
         "71",
         "\"mercury capri 2000\"",
         "23.0"
        ]
       ],
       "shape": {
        "columns": 8,
        "rows": 398
       }
      },
      "text/html": [
       "<div>\n",
       "<style scoped>\n",
       "    .dataframe tbody tr th:only-of-type {\n",
       "        vertical-align: middle;\n",
       "    }\n",
       "\n",
       "    .dataframe tbody tr th {\n",
       "        vertical-align: top;\n",
       "    }\n",
       "\n",
       "    .dataframe thead th {\n",
       "        text-align: right;\n",
       "    }\n",
       "</style>\n",
       "<table border=\"1\" class=\"dataframe\">\n",
       "  <thead>\n",
       "    <tr style=\"text-align: right;\">\n",
       "      <th></th>\n",
       "      <th>nb_cilindros</th>\n",
       "      <th>desplazamiento</th>\n",
       "      <th>potencia</th>\n",
       "      <th>peso</th>\n",
       "      <th>aceleracion</th>\n",
       "      <th>anio</th>\n",
       "      <th>modeo</th>\n",
       "      <th>mpg</th>\n",
       "    </tr>\n",
       "  </thead>\n",
       "  <tbody>\n",
       "    <tr>\n",
       "      <th>0</th>\n",
       "      <td>8</td>\n",
       "      <td>307.0</td>\n",
       "      <td>130.0</td>\n",
       "      <td>3504.0</td>\n",
       "      <td>12.0</td>\n",
       "      <td>70</td>\n",
       "      <td>\"chevrolet chevelle malibu\"</td>\n",
       "      <td>18.0</td>\n",
       "    </tr>\n",
       "    <tr>\n",
       "      <th>1</th>\n",
       "      <td>8</td>\n",
       "      <td>350.0</td>\n",
       "      <td>165.0</td>\n",
       "      <td>3693.0</td>\n",
       "      <td>11.5</td>\n",
       "      <td>70</td>\n",
       "      <td>\"buick skylark 320\"</td>\n",
       "      <td>15.0</td>\n",
       "    </tr>\n",
       "    <tr>\n",
       "      <th>2</th>\n",
       "      <td>8</td>\n",
       "      <td>318.0</td>\n",
       "      <td>150.0</td>\n",
       "      <td>3436.0</td>\n",
       "      <td>11.0</td>\n",
       "      <td>70</td>\n",
       "      <td>\"plymouth satellite\"</td>\n",
       "      <td>18.0</td>\n",
       "    </tr>\n",
       "    <tr>\n",
       "      <th>3</th>\n",
       "      <td>8</td>\n",
       "      <td>304.0</td>\n",
       "      <td>150.0</td>\n",
       "      <td>3433.0</td>\n",
       "      <td>12.0</td>\n",
       "      <td>70</td>\n",
       "      <td>\"amc rebel sst\"</td>\n",
       "      <td>16.0</td>\n",
       "    </tr>\n",
       "    <tr>\n",
       "      <th>4</th>\n",
       "      <td>8</td>\n",
       "      <td>302.0</td>\n",
       "      <td>140.0</td>\n",
       "      <td>3449.0</td>\n",
       "      <td>10.5</td>\n",
       "      <td>70</td>\n",
       "      <td>\"ford torino\"</td>\n",
       "      <td>17.0</td>\n",
       "    </tr>\n",
       "    <tr>\n",
       "      <th>...</th>\n",
       "      <td>...</td>\n",
       "      <td>...</td>\n",
       "      <td>...</td>\n",
       "      <td>...</td>\n",
       "      <td>...</td>\n",
       "      <td>...</td>\n",
       "      <td>...</td>\n",
       "      <td>...</td>\n",
       "    </tr>\n",
       "    <tr>\n",
       "      <th>393</th>\n",
       "      <td>4</td>\n",
       "      <td>140.0</td>\n",
       "      <td>86.00</td>\n",
       "      <td>2790.0</td>\n",
       "      <td>15.6</td>\n",
       "      <td>82</td>\n",
       "      <td>\"ford mustang gl\"</td>\n",
       "      <td>27.0</td>\n",
       "    </tr>\n",
       "    <tr>\n",
       "      <th>394</th>\n",
       "      <td>4</td>\n",
       "      <td>97.0</td>\n",
       "      <td>52.00</td>\n",
       "      <td>2130.0</td>\n",
       "      <td>24.6</td>\n",
       "      <td>82</td>\n",
       "      <td>\"vw pickup\"</td>\n",
       "      <td>44.0</td>\n",
       "    </tr>\n",
       "    <tr>\n",
       "      <th>395</th>\n",
       "      <td>4</td>\n",
       "      <td>135.0</td>\n",
       "      <td>84.00</td>\n",
       "      <td>2295.0</td>\n",
       "      <td>11.6</td>\n",
       "      <td>82</td>\n",
       "      <td>\"dodge rampage\"</td>\n",
       "      <td>32.0</td>\n",
       "    </tr>\n",
       "    <tr>\n",
       "      <th>396</th>\n",
       "      <td>4</td>\n",
       "      <td>120.0</td>\n",
       "      <td>79.00</td>\n",
       "      <td>2625.0</td>\n",
       "      <td>18.6</td>\n",
       "      <td>82</td>\n",
       "      <td>\"ford ranger\"</td>\n",
       "      <td>28.0</td>\n",
       "    </tr>\n",
       "    <tr>\n",
       "      <th>397</th>\n",
       "      <td>4</td>\n",
       "      <td>119.0</td>\n",
       "      <td>82.00</td>\n",
       "      <td>2720.0</td>\n",
       "      <td>19.4</td>\n",
       "      <td>82</td>\n",
       "      <td>\"chevy s-10\"</td>\n",
       "      <td>31.0</td>\n",
       "    </tr>\n",
       "  </tbody>\n",
       "</table>\n",
       "<p>398 rows × 8 columns</p>\n",
       "</div>"
      ],
      "text/plain": [
       "     nb_cilindros  desplazamiento potencia    peso  aceleracion  anio  \\\n",
       "0               8           307.0    130.0  3504.0         12.0    70   \n",
       "1               8           350.0    165.0  3693.0         11.5    70   \n",
       "2               8           318.0    150.0  3436.0         11.0    70   \n",
       "3               8           304.0    150.0  3433.0         12.0    70   \n",
       "4               8           302.0    140.0  3449.0         10.5    70   \n",
       "..            ...             ...      ...     ...          ...   ...   \n",
       "393             4           140.0    86.00  2790.0         15.6    82   \n",
       "394             4            97.0    52.00  2130.0         24.6    82   \n",
       "395             4           135.0    84.00  2295.0         11.6    82   \n",
       "396             4           120.0    79.00  2625.0         18.6    82   \n",
       "397             4           119.0    82.00  2720.0         19.4    82   \n",
       "\n",
       "                           modeo   mpg  \n",
       "0    \"chevrolet chevelle malibu\"  18.0  \n",
       "1            \"buick skylark 320\"  15.0  \n",
       "2           \"plymouth satellite\"  18.0  \n",
       "3                \"amc rebel sst\"  16.0  \n",
       "4                  \"ford torino\"  17.0  \n",
       "..                           ...   ...  \n",
       "393            \"ford mustang gl\"  27.0  \n",
       "394                  \"vw pickup\"  44.0  \n",
       "395              \"dodge rampage\"  32.0  \n",
       "396                \"ford ranger\"  28.0  \n",
       "397                 \"chevy s-10\"  31.0  \n",
       "\n",
       "[398 rows x 8 columns]"
      ]
     },
     "execution_count": 11,
     "metadata": {},
     "output_type": "execute_result"
    }
   ],
   "source": [
    "df4"
   ]
  }
 ],
 "metadata": {
  "kernelspec": {
   "display_name": "dsEspol",
   "language": "python",
   "name": "python3"
  },
  "language_info": {
   "codemirror_mode": {
    "name": "ipython",
    "version": 3
   },
   "file_extension": ".py",
   "mimetype": "text/x-python",
   "name": "python",
   "nbconvert_exporter": "python",
   "pygments_lexer": "ipython3",
   "version": "3.10.16"
  }
 },
 "nbformat": 4,
 "nbformat_minor": 5
}
